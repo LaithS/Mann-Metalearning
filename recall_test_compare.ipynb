{
 "cells": [
  {
   "cell_type": "code",
   "execution_count": 1,
   "metadata": {
    "id": "MREk7W_dkwsq"
   },
   "outputs": [],
   "source": [
    "from datetime import datetime\n",
    "from packaging import version\n",
    "import os\n",
    "import sys\n",
    "import logging"
   ]
  },
  {
   "cell_type": "code",
   "execution_count": 2,
   "metadata": {},
   "outputs": [],
   "source": [
    "sys.path.append(\"./metalearning\")"
   ]
  },
  {
   "cell_type": "code",
   "execution_count": 3,
   "metadata": {
    "id": "9t5Vpk_akyAQ"
   },
   "outputs": [],
   "source": [
    "%load_ext tensorboard"
   ]
  },
  {
   "cell_type": "code",
   "execution_count": 4,
   "metadata": {
    "id": "byVqiEsCkyas"
   },
   "outputs": [],
   "source": [
    "import tensorflow as tf\n",
    "import numpy as np\n",
    "import matplotlib.pyplot as plt\n",
    "\n",
    "from metalearning_tasks.associative_recall import AssociativeRecallTask\n",
    "from models.model_builder import create_algorithmic_task_model"
   ]
  },
  {
   "cell_type": "code",
   "execution_count": 5,
   "metadata": {
    "id": "RXTl1nsulJEe"
   },
   "outputs": [],
   "source": [
    "batch_size = 32\n",
    "nb_reads = 1\n",
    "controller_size = 100\n",
    "memory_size =128\n",
    "memory_dim = 20\n",
    "num_layers = 1\n",
    "bits_per_vector = 8\n",
    "lr=0.001\n",
    "cells = ['LSTM','NTMv2','LRUold','DNC']\n",
    "save_dir='./associative_recall/associative_recall'\n",
    "sizes = [6, 10, 15, 20]\n",
    "models = {}\n",
    "max_len = 20"
   ]
  },
  {
   "cell_type": "code",
   "execution_count": 6,
   "metadata": {
    "id": "DEJMnlK6k0vE"
   },
   "outputs": [],
   "source": [
    "test_error = [tf.keras.metrics.Mean(f'error_{i}', dtype=tf.float32) for i in sizes]"
   ]
  },
  {
   "cell_type": "code",
   "execution_count": 7,
   "metadata": {
    "id": "wrC6hCUfnwUy"
   },
   "outputs": [
    {
     "name": "stdout",
     "output_type": "stream",
     "text": [
      "loading weights from ./associative_recall/associative_recall/LSTM/0.001/111 for LSTM\n",
      "Model: \"model\"\n",
      "_________________________________________________________________\n",
      "Layer (type)                 Output Shape              Param #   \n",
      "=================================================================\n",
      "input_1 (InputLayer)         [(32, None, 10)]          0         \n",
      "_________________________________________________________________\n",
      "tf.stop_gradient (TFOpLambda (32, None, 10)            0         \n",
      "_________________________________________________________________\n",
      "rnn (RNN)                    (32, None, 256)           273408    \n",
      "_________________________________________________________________\n",
      "dense (Dense)                (32, None, 8)             2056      \n",
      "=================================================================\n",
      "Total params: 275,464\n",
      "Trainable params: 275,464\n",
      "Non-trainable params: 0\n",
      "_________________________________________________________________\n",
      "loading weights from ./associative_recall/associative_recall/NTMv2/0.001/111 for NTMv2\n",
      "Model: \"model_1\"\n",
      "_________________________________________________________________\n",
      "Layer (type)                 Output Shape              Param #   \n",
      "=================================================================\n",
      "input_2 (InputLayer)         [(32, None, 10)]          0         \n",
      "_________________________________________________________________\n",
      "tf.stop_gradient_1 (TFOpLamb (32, None, 10)            0         \n",
      "_________________________________________________________________\n",
      "rnn_1 (RNN)                  (32, None, 8)             70336     \n",
      "_________________________________________________________________\n",
      "dense_5 (Dense)              (32, None, 8)             72        \n",
      "=================================================================\n",
      "Total params: 70,408\n",
      "Trainable params: 70,408\n",
      "Non-trainable params: 0\n",
      "_________________________________________________________________\n",
      "loading weights from ./associative_recall/associative_recall/LRUold/0.001/111 for LRUold\n",
      "Model: \"model_2\"\n",
      "_________________________________________________________________\n",
      "Layer (type)                 Output Shape              Param #   \n",
      "=================================================================\n",
      "input_3 (InputLayer)         [(32, None, 10)]          0         \n",
      "_________________________________________________________________\n",
      "tf.stop_gradient_2 (TFOpLamb (32, None, 10)            0         \n",
      "_________________________________________________________________\n",
      "rnn_2 (RNN)                  (32, None, 120)           99741     \n",
      "_________________________________________________________________\n",
      "dense_7 (Dense)              (32, None, 8)             968       \n",
      "=================================================================\n",
      "Total params: 100,709\n",
      "Trainable params: 100,709\n",
      "Non-trainable params: 0\n",
      "_________________________________________________________________\n",
      "loading weights from ./associative_recall/associative_recall/DNC/0.001/111 for DNC\n",
      "Model: \"model_3\"\n",
      "_________________________________________________________________\n",
      "Layer (type)                 Output Shape              Param #   \n",
      "=================================================================\n",
      "input_4 (InputLayer)         [(32, None, 10)]          0         \n",
      "_________________________________________________________________\n",
      "tf.stop_gradient_3 (TFOpLamb (32, None, 10)            0         \n",
      "_________________________________________________________________\n",
      "rnn_3 (RNN)                  (32, None, 8)             62256     \n",
      "_________________________________________________________________\n",
      "dense_8 (Dense)              (32, None, 8)             72        \n",
      "=================================================================\n",
      "Total params: 62,328\n",
      "Trainable params: 62,328\n",
      "Non-trainable params: 0\n",
      "_________________________________________________________________\n"
     ]
    }
   ],
   "source": [
    "data_generator = AssociativeRecallTask(batch_size=batch_size,\n",
    "                          max_items=max_len,\n",
    "                          bits_per_vector=bits_per_vector,\n",
    "                          lines_per_item=3)\n",
    "\n",
    "for cell in cells:\n",
    "  dir = f\"{save_dir}/{cell}/{lr}/111\"\n",
    "  try:\n",
    "    print(f'loading weights from {dir} for {cell}')\n",
    "    model = create_algorithmic_task_model(2 + bits_per_vector,\n",
    "                                      bits_per_vector,\n",
    "                                      batch_size,\n",
    "                                      cell)\n",
    "\n",
    "    model.load_weights(dir + \"/model.\")\n",
    "    models[cell] = model\n",
    "    model.summary()\n",
    "  except:\n",
    "    logging.exception(\"failed to load weights\")"
   ]
  },
  {
   "cell_type": "code",
   "execution_count": 8,
   "metadata": {
    "id": "y2QUPbFlXejw"
   },
   "outputs": [
    {
     "data": {
      "text/plain": [
       "{'LSTM': <tensorflow.python.keras.engine.functional.Functional at 0x7f4b2c1b5a60>,\n",
       " 'NTMv2': <tensorflow.python.keras.engine.functional.Functional at 0x7f4b2c14e9d0>,\n",
       " 'LRUold': <tensorflow.python.keras.engine.functional.Functional at 0x7f4b24515910>,\n",
       " 'DNC': <tensorflow.python.keras.engine.functional.Functional at 0x7f4b245e0e50>}"
      ]
     },
     "execution_count": 8,
     "metadata": {},
     "output_type": "execute_result"
    }
   ],
   "source": [
    "models"
   ]
  },
  {
   "cell_type": "code",
   "execution_count": 9,
   "metadata": {
    "id": "tmxFD5JWoc9y"
   },
   "outputs": [],
   "source": [
    "def test(model, data_generator, sizes):\n",
    "    test_error = [tf.keras.metrics.Mean(f'train_error_{s}', dtype=tf.float32) for s in sizes]\n",
    "    print(\"Test Result\\n\")\n",
    "    print('size', end='\\t')\n",
    "    for size in sizes:\n",
    "        print('%d' % size, end='\\t')\n",
    "    print('')\n",
    "    for i,s in enumerate(sizes):\n",
    "      for ep in range(100):\n",
    "              x, y, seq_len = data_generator.generate_batch(s)\n",
    "              output = model(x)\n",
    "              out_sig = tf.sigmoid(output)\n",
    "              error = metric_accuracy(y, out_sig, -4)\n",
    "              test_error[i](error)\n",
    "    print('', end='\\t')\n",
    "    for accu in test_error:\n",
    "        print('%.2f' % accu.result(), end='\\t')\n",
    "    return test_error"
   ]
  },
  {
   "cell_type": "code",
   "execution_count": 10,
   "metadata": {
    "id": "Tep7ieufXdzm"
   },
   "outputs": [],
   "source": [
    "def metric_accuracy(labels, outputs, seq_len):\n",
    "    sub_label = labels[:, seq_len+1:, :]\n",
    "    rounded = tf.round(outputs[:, seq_len+1:, :])\n",
    "    diff = tf.math.abs(sub_label-rounded)\n",
    "    return tf.reduce_sum(diff)/sub_label.shape[0]"
   ]
  },
  {
   "cell_type": "code",
   "execution_count": 11,
   "metadata": {
    "id": "obszQjx6Wtr7"
   },
   "outputs": [
    {
     "name": "stdout",
     "output_type": "stream",
     "text": [
      "Test Result\n",
      "\n",
      "size\t6\t10\t15\t20\t\n",
      "\t3.80\t8.91\t9.95\t10.27\tTest Result\n",
      "\n",
      "size\t6\t10\t15\t20\t\n",
      "\t10.20\t11.11\t11.54\t11.73\tTest Result\n",
      "\n",
      "size\t6\t10\t15\t20\t\n",
      "\t5.92\t9.16\t10.63\t11.10\tTest Result\n",
      "\n",
      "size\t6\t10\t15\t20\t\n",
      "\t0.02\t0.02\t0.06\t0.08\t"
     ]
    }
   ],
   "source": [
    "errors = {}\n",
    "for name, model in models.items():\n",
    "  err = test(model, data_generator, sizes)\n",
    "  errors[name] = err"
   ]
  },
  {
   "cell_type": "code",
   "execution_count": 12,
   "metadata": {
    "id": "F8xTd-Ayifvw"
   },
   "outputs": [
    {
     "data": {
      "text/plain": [
       "dict_keys(['LSTM', 'NTMv2', 'LRUold', 'DNC'])"
      ]
     },
     "execution_count": 12,
     "metadata": {},
     "output_type": "execute_result"
    }
   ],
   "source": [
    "models.keys()"
   ]
  },
  {
   "cell_type": "code",
   "execution_count": 13,
   "metadata": {
    "id": "Y4Nxb423ihLA"
   },
   "outputs": [
    {
     "name": "stdout",
     "output_type": "stream",
     "text": [
      "Model\t6\t10\t15\t20\t\n",
      "LSTM\t3.8009374141693115\t8.9140625\t9.949999809265137\t10.2709379196167\t\n",
      "NTMv2\t10.195937156677246\t11.112812042236328\t11.541250228881836\t11.725312232971191\t\n",
      "LRUold\t5.923749923706055\t9.158437728881836\t10.628437042236328\t11.1040620803833\t\n",
      "DNC\t0.019687499850988388\t0.019999999552965164\t0.06031249836087227\t0.08093749731779099\t\n"
     ]
    }
   ],
   "source": [
    "print('Model',end='\\t')\n",
    "for s in sizes:\n",
    "  print(s,end='\\t')\n",
    "print()\n",
    "for model, error in errors.items():\n",
    "  print(model,end='\\t')\n",
    "  for err in error:\n",
    "    print(float(err.result()),end='\\t')\n",
    "  print()\n"
   ]
  },
  {
   "cell_type": "code",
   "execution_count": null,
   "metadata": {},
   "outputs": [],
   "source": []
  }
 ],
 "metadata": {
  "colab": {
   "collapsed_sections": [],
   "name": "copytask-test-compare.ipynb",
   "private_outputs": true,
   "provenance": []
  },
  "kernelspec": {
   "display_name": "Python 3",
   "language": "python",
   "name": "python3"
  },
  "language_info": {
   "codemirror_mode": {
    "name": "ipython",
    "version": 3
   },
   "file_extension": ".py",
   "mimetype": "text/x-python",
   "name": "python",
   "nbconvert_exporter": "python",
   "pygments_lexer": "ipython3",
   "version": "3.8.5"
  }
 },
 "nbformat": 4,
 "nbformat_minor": 1
}
