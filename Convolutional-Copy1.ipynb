{
 "cells": [
  {
   "cell_type": "code",
   "execution_count": 15,
   "metadata": {},
   "outputs": [],
   "source": [
    "exp_no = 20\n",
    "batch_size = _batch_size = 32\n",
    "nb_classes = _nb_classes = 5\n",
    "nb_samples_per_class = _nb_samples_per_class = 10\n",
    "_input_height = _input_width = 40\n",
    "colorspace = 'L'\n",
    "channels = {'RGB':3, 'L':1}\n",
    "_iterations = 100000\n",
    "\n",
    "img_size = (_input_height, _input_width)\n",
    "img_shape = [_input_height, _input_width, channels[colorspace]]\n",
    "\n",
    "input_size = _input_height * _input_width * channels[colorspace]\n",
    "cell = 'DNC'\n",
    "nb_reads = _nb_reads = 1\n",
    "controller_size = _controller_size = 100\n",
    "memory_size = _memory_locations = 128\n",
    "memory_dim = ar_memory_word_size = 20\n",
    "summary_interval = 100\n",
    "checkpt_write_interval = 1000\n",
    "dataset = 'omniglot'\n",
    "splits=[1200,200,0]\n",
    "\n",
    "learning_rate = _learning_rate = 1e-3\n",
    "start=0\n",
    "save_dir='./Experiments_New/Convolutional4layer'\n",
    "_start_iterations = 0"
   ]
  },
  {
   "cell_type": "code",
   "execution_count": 16,
   "metadata": {},
   "outputs": [],
   "source": [
    "import tensorflow as tf\n",
    "import numpy as np\n",
    "import matplotlib.pyplot as plt\n",
    "from datetime import datetime\n",
    "from packaging import version\n",
    "import os\n",
    "import sys\n"
   ]
  },
  {
   "cell_type": "code",
   "execution_count": 17,
   "metadata": {},
   "outputs": [],
   "source": [
    "tf.compat.v1.logging.set_verbosity('DEBUG')"
   ]
  },
  {
   "cell_type": "code",
   "execution_count": 18,
   "metadata": {},
   "outputs": [],
   "source": [
    "sys.path.append('./metalearning')\n",
    "os.environ[\"RECORDS\"]=\"./datasets/Records\""
   ]
  },
  {
   "cell_type": "code",
   "execution_count": 19,
   "metadata": {},
   "outputs": [],
   "source": [
    "from metalearning_tasks.fixed_shot_classification_v2 import DatasetGenerator\n",
    "from models.model_builder import create_one_hot_model_convolutional, create_cell"
   ]
  },
  {
   "cell_type": "code",
   "execution_count": 20,
   "metadata": {},
   "outputs": [],
   "source": [
    "train_loss = tf.keras.metrics.Mean('train_loss', dtype=tf.float32)\n",
    "train_error = tf.keras.metrics.Mean('train_error', dtype=tf.float32)"
   ]
  },
  {
   "cell_type": "code",
   "execution_count": 21,
   "metadata": {},
   "outputs": [],
   "source": [
    "def metric_accuracy(_nb_classes,_nb_samples_per_class,labels, outputs):\n",
    "    seq_length = _nb_classes * _nb_samples_per_class\n",
    "    outputs = np.argmax(outputs, axis=-1)\n",
    "    correct = [0] * seq_length\n",
    "    total = [0] * seq_length\n",
    "    for i in range(np.shape(labels)[0]):\n",
    "        label = labels[i]\n",
    "        output = outputs[i]\n",
    "        class_count = {}\n",
    "        for j in range(seq_length):\n",
    "            class_count[label[j]] = class_count.get(label[j], 0) + 1\n",
    "            total[class_count[label[j]]] += 1\n",
    "            if label[j] == output[j]:\n",
    "                correct[class_count[label[j]]] += 1\n",
    "    return [float(correct[i]) / total[i] if total[i] > 0. else 0.\n",
    "            for i in range(1, _nb_samples_per_class + 1)]\n",
    "last_logged_ep=0\n",
    "\n",
    "@tf.function\n",
    "def trainstep(model, data_generator, optimizer):\n",
    "    image, label = data_generator.generate_batch(\"train\",\n",
    "                                                 _batch_size)\n",
    "    images = tf.reshape(image, (_batch_size,-1,40,40,3))\n",
    "    one_hot_target = tf.one_hot(label, _nb_classes, axis=-1)\n",
    "    offset_target_var = tf.concat([tf.zeros_like(tf.expand_dims(\n",
    "        one_hot_target[:, 0], 1)), one_hot_target[:, :-1]], axis=1)\n",
    "\n",
    "    with tf.GradientTape() as tape:\n",
    "        output = model([images, offset_target_var])\n",
    "        loss = tf.reduce_mean(\n",
    "                    tf.reduce_sum(\n",
    "                        tf.nn.softmax_cross_entropy_with_logits(\n",
    "                            labels=one_hot_target,\n",
    "                            logits=output\n",
    "                        ),\n",
    "                        axis=1)\n",
    "                  )\n",
    "        grads, _ = tf.clip_by_global_norm(\n",
    "            tape.gradient(loss, model.trainable_variables),\n",
    "            50)\n",
    "    optimizer.apply_gradients(zip(grads, model.trainable_variables))\n",
    "    return loss\n",
    "\n",
    "def train(model, data_genarator, _start_iterations, _iterations, _learning_rate, cell, _batch_size, _nb_classes, save_dir):\n",
    "    optimizer = tf.keras.optimizers.Adam(lr=_learning_rate)\n",
    "    print(\"1st\\t2nd\\t3rd\\t4th\\t5th\\t6th\\t7th\\t8th\\t9th\\t10th\\tbatch\\tloss\\tdt\")\n",
    "    logdir = f\"{save_dir}/{dataset}/{cell}/{_learning_rate}/{exp_no}/logs\"\n",
    "    summary_writer = tf.summary.create_file_writer(logdir)\n",
    "    dt = datetime.now()\n",
    "    accuracies = []\n",
    "    losses = []\n",
    "    for ep in range(_start_iterations, _iterations):\n",
    "        if ep % summary_interval == 0:\n",
    "            image, label = data_generator.generate_batch(\"train\",\n",
    "                                                         _batch_size)\n",
    "            images = tf.reshape(image, (_batch_size,-1,40,40,3))\n",
    "            one_hot_target = tf.one_hot(label, _nb_classes, axis=-1)\n",
    "            offset_target_var = tf.concat([tf.zeros_like(tf.expand_dims(\n",
    "                one_hot_target[:, 0], 1)), one_hot_target[:, :-1]], axis=1)\n",
    "            output = model([images, offset_target_var])\n",
    "            loss = tf.reduce_mean(\n",
    "                        tf.reduce_sum(\n",
    "                            tf.nn.softmax_cross_entropy_with_logits(\n",
    "                                labels=one_hot_target,\n",
    "                                logits=output),\n",
    "                            axis=1))\n",
    "            accuracy = metric_accuracy(_nb_classes, _nb_samples_per_class, label, output)\n",
    "            accuracies.append((ep,accuracy))\n",
    "            dt = datetime.now() - dt\n",
    "\n",
    "            for accu in accuracy:\n",
    "                print('%.4f' % accu, end='\\t')\n",
    "            print('%d\\t%.4f\\t%.4f' % (ep, loss, dt.total_seconds()))\n",
    "            train_loss(loss)\n",
    "            losses.append((ep,train_loss.result()))\n",
    "\n",
    "            dt = datetime.now()\n",
    "        if ep % checkpt_write_interval == 1 and ep > 0:\n",
    "            model.save_weights(f\"{save_dir}/{dataset}/{cell}/{_learning_rate}/{exp_no}\" + \"/model.\")\n",
    "            with open(f\"{save_dir}/{dataset}/{cell}/{_learning_rate}/{exp_no}\" + \"/model.iteration\", 'w') as f:\n",
    "                _start_iterations =  f.write(str(ep))\n",
    "            with summary_writer.as_default():\n",
    "              for ep_idx, accuracy in accuracies:\n",
    "                for i, accu in enumerate(accuracy):\n",
    "                    tf.summary.scalar(f'train_acc_{i}',\n",
    "                                      accu,\n",
    "                                      step=ep_idx)\n",
    "              for ep_idx, loss_res in losses:\n",
    "                tf.summary.scalar('train_loss',\n",
    "                                  train_loss.result(),\n",
    "                                  step=ep_idx)\n",
    "            last_logged_ep=ep\n",
    "            accuracies=[]\n",
    "            losses=[]\n",
    "        loss = trainstep(model, data_generator, optimizer)\n",
    "        train_loss(loss)\n"
   ]
  },
  {
   "cell_type": "code",
   "execution_count": 22,
   "metadata": {},
   "outputs": [],
   "source": [
    "def create_one_hot_model_convolutional(image_size,\n",
    "                                       extra_channel,\n",
    "                                       output_size,\n",
    "                                       batch_size,\n",
    "                                       cell,\n",
    "                                       cnn):\n",
    "    labels = tf.keras.layers.Input([None] + extra_channel,\n",
    "                                   batch_size=batch_size)\n",
    "    images = tf.keras.layers.Input([None] + image_size,\n",
    "                                   batch_size=batch_size)\n",
    "    labels0 = tf.stop_gradient(labels)\n",
    "    images0 = tf.stop_gradient(images)\n",
    "    resnet = tf.keras.applications.EfficientNetB0(\n",
    "                                                    include_top=False, weights='imagenet',\n",
    "                                                    input_shape=(40,40,1)\n",
    "                                                  )\n",
    "    cnn_timeseries = tf.keras.layers.TimeDistributed(resnet, trainable=False)\n",
    "    flatten = tf.keras.layers.Flatten()\n",
    "    flatten_timeseries = tf.keras.layers.TimeDistributed(flatten)\n",
    "    linear = tf.keras.layers.Dense(400)\n",
    "    linear_timeseries = tf.keras.layers.TimeDistributed(linear)\n",
    "    cell = create_cell(cell,\n",
    "                       output_size,\n",
    "                       100,\n",
    "                       128,\n",
    "                       20,\n",
    "                       10)\n",
    "\n",
    "    initial_state = cell.get_initial_state(batch_size=batch_size,\n",
    "                                           dtype=tf.float32)\n",
    "    rnn = tf.keras.layers.RNN(cell, return_sequences=True)\n",
    "    cnn_out = cnn_timeseries(images0)\n",
    "    flatten_out = flatten_timeseries(cnn_out)\n",
    "    linear_out = linear_timeseries(flatten_out)\n",
    "    cnn_out_plus_labels = tf.concat([linear_out, labels0], axis=-1)\n",
    "    y1 = rnn(cnn_out_plus_labels, initial_state=initial_state)\n",
    "    y2 = tf.keras.layers.Dense(output_size)(y1)\n",
    "    y3 = tf.keras.layers.Softmax()(y2)\n",
    "    model = tf.keras.Model([images, labels], y3)\n",
    "    return model"
   ]
  },
  {
   "cell_type": "code",
   "execution_count": 23,
   "metadata": {},
   "outputs": [
    {
     "name": "stdout",
     "output_type": "stream",
     "text": [
      "\n"
     ]
    }
   ],
   "source": [
    "model = create_one_hot_model_convolutional(img_shape,\n",
    "                                           [5],\n",
    "                                           5,\n",
    "                                           _batch_size,\n",
    "                                           cell,\n",
    "                                          '4layerConv')\n",
    "ds_root = f'./datasets/Records/{dataset}'\n",
    "data_generator = DatasetGenerator(data_folder=ds_root,\n",
    "                                  splits=splits,\n",
    "                                  nb_samples_per_class=nb_samples_per_class,\n",
    "                                  img_size=img_size,\n",
    "                                  colorspace=colorspace,\n",
    "                                  pre_scale=(60,60),\n",
    "                                  augment=False\n",
    "                                )"
   ]
  },
  {
   "cell_type": "code",
   "execution_count": 24,
   "metadata": {},
   "outputs": [
    {
     "name": "stdout",
     "output_type": "stream",
     "text": [
      "Model: \"model_1\"\n",
      "__________________________________________________________________________________________________\n",
      "Layer (type)                    Output Shape         Param #     Connected to                     \n",
      "==================================================================================================\n",
      "input_5 (InputLayer)            [(32, None, 40, 40,  0                                            \n",
      "__________________________________________________________________________________________________\n",
      "tf.stop_gradient_3 (TFOpLambda) (32, None, 40, 40, 3 0           input_5[0][0]                    \n",
      "__________________________________________________________________________________________________\n",
      "time_distributed_3 (TimeDistrib (32, None, 2, 2, 128 4049571     tf.stop_gradient_3[0][0]         \n",
      "__________________________________________________________________________________________________\n",
      "time_distributed_4 (TimeDistrib (32, None, 5120)     0           time_distributed_3[0][0]         \n",
      "__________________________________________________________________________________________________\n",
      "input_4 (InputLayer)            [(32, None, 5)]      0                                            \n",
      "__________________________________________________________________________________________________\n",
      "time_distributed_5 (TimeDistrib (32, None, 400)      2048400     time_distributed_4[0][0]         \n",
      "__________________________________________________________________________________________________\n",
      "tf.stop_gradient_2 (TFOpLambda) (32, None, 5)        0           input_4[0][0]                    \n",
      "__________________________________________________________________________________________________\n",
      "tf.concat_1 (TFOpLambda)        (32, None, 405)      0           time_distributed_5[0][0]         \n",
      "                                                                 tf.stop_gradient_2[0][0]         \n",
      "__________________________________________________________________________________________________\n",
      "rnn_1 (RNN)                     (32, None, 5)        219893      tf.concat_1[0][0]                \n",
      "__________________________________________________________________________________________________\n",
      "dense_3 (Dense)                 (32, None, 5)        30          rnn_1[0][0]                      \n",
      "__________________________________________________________________________________________________\n",
      "softmax_1 (Softmax)             (32, None, 5)        0           dense_3[0][0]                    \n",
      "==================================================================================================\n",
      "Total params: 6,317,894\n",
      "Trainable params: 2,268,323\n",
      "Non-trainable params: 4,049,571\n",
      "__________________________________________________________________________________________________\n"
     ]
    }
   ],
   "source": [
    "model.summary()"
   ]
  },
  {
   "cell_type": "code",
   "execution_count": 25,
   "metadata": {},
   "outputs": [],
   "source": [
    "b1 = data_generator.generate_batch('train', _batch_size)"
   ]
  },
  {
   "cell_type": "code",
   "execution_count": 26,
   "metadata": {
    "scrolled": true
   },
   "outputs": [
    {
     "data": {
      "text/plain": [
       "<matplotlib.image.AxesImage at 0x7f64d660ea90>"
      ]
     },
     "execution_count": 26,
     "metadata": {},
     "output_type": "execute_result"
    },
    {
     "data": {
      "image/png": "[encoded data removed]",
      "text/plain": [
       "<Figure size 432x288 with 1 Axes>"
      ]
     },
     "metadata": {
      "needs_background": "light"
     },
     "output_type": "display_data"
    }
   ],
   "source": [
    "plt.imshow(tf.reshape(b1[0][0,0,:],(40,40,3)))"
   ]
  },
  {
   "cell_type": "code",
   "execution_count": null,
   "metadata": {
    "scrolled": false
   },
   "outputs": [
    {
     "name": "stdout",
     "output_type": "stream",
     "text": [
      "1st\t2nd\t3rd\t4th\t5th\t6th\t7th\t8th\t9th\t10th\tbatch\tloss\tdt\n",
      "0.1750\t0.1875\t0.1938\t0.1950\t0.1962\t0.1974\t0.2069\t0.2180\t0.2018\t0.2000\t0\t80.5059\t2.0645\n",
      "0.2062\t0.1750\t0.1562\t0.1875\t0.2013\t0.2129\t0.2260\t0.2406\t0.2500\t0.2414\t100\t80.7645\t95.5806\n",
      "0.2000\t0.1750\t0.2250\t0.2453\t0.1975\t0.1667\t0.1739\t0.1769\t0.1712\t0.1798\t200\t80.9198\t89.5149\n",
      "0.1875\t0.1812\t0.2062\t0.2138\t0.2500\t0.2517\t0.2313\t0.2154\t0.1964\t0.2021\t300\t80.7201\t89.8023\n",
      "0.1875\t0.2000\t0.1875\t0.1812\t0.1950\t0.1974\t0.2113\t0.1890\t0.1942\t0.1829\t400\t80.7902\t89.5185\n",
      "0.1812\t0.1750\t0.1875\t0.1938\t0.1911\t0.1933\t0.1879\t0.2045\t0.1810\t0.1648\t500\t80.8365\t89.8699\n",
      "0.1812\t0.1812\t0.2188\t0.1938\t0.1859\t0.1921\t0.1702\t0.1694\t0.2432\t0.2644\t600\t80.6815\t89.6332\n",
      "0.1938\t0.1875\t0.2188\t0.2313\t0.1824\t0.1720\t0.1533\t0.1642\t0.1488\t0.1613\t700\t81.0772\t89.8304\n",
      "0.2062\t0.2000\t0.2062\t0.2102\t0.2051\t0.2053\t0.2222\t0.2248\t0.1802\t0.2211\t800\t80.7881\t89.5476\n",
      "0.1750\t0.1750\t0.2125\t0.2062\t0.1887\t0.1895\t0.1986\t0.1628\t0.1532\t0.1667\t900\t80.9801\t89.7312\n",
      "0.2188\t0.2013\t0.2089\t0.2675\t0.2129\t0.1600\t0.1667\t0.2439\t0.2018\t0.1596\t1000\t80.6931\t89.5800\n",
      "0.1875\t0.1812\t0.2062\t0.2138\t0.2258\t0.2533\t0.1901\t0.2000\t0.1786\t0.1978\t1100\t80.8276\t90.0796\n",
      "0.1875\t0.2313\t0.1938\t0.1887\t0.1742\t0.1757\t0.2113\t0.2164\t0.1880\t0.1685\t1200\t81.1680\t89.6988\n",
      "0.2000\t0.2000\t0.2062\t0.2313\t0.2597\t0.2222\t0.2207\t0.2148\t0.2162\t0.2169\t1300\t80.9949\t89.8248\n",
      "0.2062\t0.1875\t0.1761\t0.2229\t0.2166\t0.2273\t0.1986\t0.1984\t0.1930\t0.1758\t1400\t81.2633\t89.6701\n",
      "0.2125\t0.2000\t0.1938\t0.1625\t0.1688\t0.1835\t0.1946\t0.1628\t0.1750\t0.2000\t1500\t81.1477\t89.9987\n",
      "0.2000\t0.2000\t0.2188\t0.1875\t0.2372\t0.2517\t0.2192\t0.2132\t0.2054\t0.2024\t1600\t80.6393\t89.7442\n",
      "0.2000\t0.2125\t0.2062\t0.2025\t0.1871\t0.2133\t0.2238\t0.2180\t0.1964\t0.1889\t1700\t80.9798\t89.9799\n",
      "0.1938\t0.2188\t0.2075\t0.1824\t0.1962\t0.1806\t0.1689\t0.1818\t0.1518\t0.2198\t1800\t80.8732\t89.3236\n",
      "0.1750\t0.1688\t0.1750\t0.1875\t0.1962\t0.2065\t0.2000\t0.1527\t0.2105\t0.2500\t1900\t80.9996\t89.7466\n",
      "0.1875\t0.2062\t0.1938\t0.2125\t0.2138\t0.1911\t0.1942\t0.1905\t0.1923\t0.2273\t2000\t80.7861\t90.1210\n",
      "0.1812\t0.1812\t0.2125\t0.2089\t0.2152\t0.2215\t0.2267\t0.2370\t0.1842\t0.1348\t2100\t80.9254\t90.0028\n",
      "0.2188\t0.2000\t0.2000\t0.1875\t0.1887\t0.2194\t0.2055\t0.2313\t0.1963\t0.1932\t2200\t81.0032\t90.1547\n",
      "0.1938\t0.2188\t0.1824\t0.2025\t0.2025\t0.2338\t0.1892\t0.1783\t0.1852\t0.1573\t2300\t80.7629\t90.0971\n",
      "0.2062\t0.2062\t0.1750\t0.1500\t0.1887\t0.2194\t0.2098\t0.1852\t0.2018\t0.2333\t2400\t80.7563\t89.4373\n",
      "0.1938\t0.2062\t0.2000\t0.2125\t0.2188\t0.1871\t0.2183\t0.1890\t0.1574\t0.1628\t2500\t81.1023\t90.1719\n",
      "0.2188\t0.2125\t0.2375\t0.1875\t0.1950\t0.2171\t0.2042\t0.1756\t0.2232\t0.2045\t2600\t80.7656\t89.6880\n",
      "0.1750\t0.1824\t0.1911\t0.1783\t0.2115\t0.2039\t0.1972\t0.1805\t0.1696\t0.1978\t2700\t81.0568\t90.1249\n",
      "0.1938\t0.2125\t0.1938\t0.1582\t0.1688\t0.1757\t0.2000\t0.2097\t0.2453\t0.2651\t2800\t81.4048\t90.1279\n",
      "0.2000\t0.1875\t0.1500\t0.1635\t0.1731\t0.1765\t0.1901\t0.1797\t0.1818\t0.2386\t2900\t81.3508\t90.2293\n",
      "0.2000\t0.1875\t0.1938\t0.1688\t0.1437\t0.1401\t0.2095\t0.2463\t0.2174\t0.2045\t3000\t81.2071\t90.0386\n",
      "0.1875\t0.1625\t0.1875\t0.1887\t0.1975\t0.2081\t0.1958\t0.1984\t0.2056\t0.2118\t3100\t81.2687\t90.1429\n",
      "0.2062\t0.2000\t0.1938\t0.2152\t0.2308\t0.2081\t0.2000\t0.2290\t0.1947\t0.2069\t3200\t81.1650\t89.4633\n",
      "0.2000\t0.2000\t0.2062\t0.2000\t0.2357\t0.2179\t0.2319\t0.1840\t0.1927\t0.1860\t3300\t81.3763\t89.6752\n",
      "0.2000\t0.2000\t0.1750\t0.1812\t0.1987\t0.2133\t0.2518\t0.2481\t0.2170\t0.2444\t3400\t81.1729\t90.0516\n",
      "0.2000\t0.1938\t0.2062\t0.2062\t0.2215\t0.2092\t0.2128\t0.2061\t0.1709\t0.1724\t3500\t81.2458\t89.6351\n",
      "0.1938\t0.1562\t0.1698\t0.1835\t0.1634\t0.2000\t0.2302\t0.2222\t0.1963\t0.2386\t3600\t81.3874\t90.0807\n",
      "0.1938\t0.1812\t0.1688\t0.2013\t0.2244\t0.1933\t0.1958\t0.1985\t0.1786\t0.1702\t3700\t81.2078\t89.6034\n",
      "0.2000\t0.1875\t0.2390\t0.2484\t0.2157\t0.2550\t0.2569\t0.2266\t0.2182\t0.1798\t3800\t81.1405\t90.0471\n",
      "0.2000\t0.2125\t0.2188\t0.2562\t0.2658\t0.2810\t0.2123\t0.2016\t0.1565\t0.1720\t3900\t81.0459\t89.7111\n",
      "0.2000\t0.2062\t0.1812\t0.1562\t0.1509\t0.1987\t0.1908\t0.1852\t0.1949\t0.1935\t4000\t81.1967\t90.0947\n",
      "0.2000\t0.1938\t0.1625\t0.1646\t0.1391\t0.1622\t0.1857\t0.2137\t0.2500\t0.2083\t4100\t81.3472\t90.4079\n",
      "0.2062\t0.2313\t0.2188\t0.1698\t0.2293\t0.2313\t0.1971\t0.2033\t0.1909\t0.1556\t4200\t81.3646\t90.1115\n",
      "0.2062\t0.2062\t0.1875\t0.1250\t0.1709\t0.1776\t0.2101\t0.1983\t0.2200\t0.1364\t4300\t81.7244\t89.5361\n",
      "0.2000\t0.1938\t0.1875\t0.2201\t0.2278\t0.2500\t0.1849\t0.1481\t0.1417\t0.1910\t4400\t81.3514\t90.1038\n",
      "0.2000\t0.2125\t0.2125\t0.2138\t0.2152\t0.2065\t0.1806\t0.1825\t0.1226\t0.1235\t4500\t81.3785\t89.6274\n",
      "0.2000\t0.2062\t0.1938\t0.1950\t0.2468\t0.2649\t0.2643\t0.2047\t0.1835\t0.1979\t4600\t81.1591\t90.1375\n",
      "0.2000\t0.2062\t0.2125\t0.1688\t0.2025\t0.1883\t0.1701\t0.1818\t0.1466\t0.1304\t4700\t81.4328\t89.5635\n",
      "0.2000\t0.2062\t0.2125\t0.1875\t0.1720\t0.1656\t0.1944\t0.1923\t0.2301\t0.2111\t4800\t81.5389\t89.8934\n",
      "0.2000\t0.1812\t0.1562\t0.1938\t0.2166\t0.2013\t0.2101\t0.1920\t0.2252\t0.1739\t4900\t81.2604\t90.0790\n",
      "0.2062\t0.2062\t0.2000\t0.1698\t0.1592\t0.1854\t0.1773\t0.1600\t0.2569\t0.2796\t5000\t81.0967\t89.4940\n",
      "0.2000\t0.2062\t0.2000\t0.2125\t0.2102\t0.1987\t0.2128\t0.2205\t0.2035\t0.1932\t5100\t81.3101\t90.3262\n",
      "0.2000\t0.1938\t0.1812\t0.1761\t0.1667\t0.2282\t0.1915\t0.1938\t0.2545\t0.2340\t5200\t81.3681\t89.8747\n",
      "0.2000\t0.2125\t0.1938\t0.1899\t0.1847\t0.1842\t0.1799\t0.2049\t0.2059\t0.2235\t5300\t81.2003\t89.9682\n",
      "0.2000\t0.1938\t0.2062\t0.2125\t0.1646\t0.1859\t0.2083\t0.2074\t0.2414\t0.2474\t5400\t81.2536\t89.6176\n",
      "0.2000\t0.1875\t0.1750\t0.1887\t0.2179\t0.2039\t0.1888\t0.2188\t0.2252\t0.1954\t5500\t81.3502\t90.1541\n",
      "0.2062\t0.2313\t0.2188\t0.1812\t0.1824\t0.2222\t0.2254\t0.2231\t0.1964\t0.1978\t5600\t81.1093\t89.6688\n"
     ]
    }
   ],
   "source": [
    "train(model, data_generator, _start_iterations, _iterations, _learning_rate, cell, _batch_size, _nb_classes, save_dir)"
   ]
  },
  {
   "cell_type": "code",
   "execution_count": null,
   "metadata": {},
   "outputs": [],
   "source": [
    "tf.autograph.set_verbosity(0)"
   ]
  },
  {
   "cell_type": "code",
   "execution_count": null,
   "metadata": {},
   "outputs": [],
   "source": []
  }
 ],
 "metadata": {
  "kernelspec": {
   "display_name": "Python 3",
   "language": "python",
   "name": "python3"
  },
  "language_info": {
   "codemirror_mode": {
    "name": "ipython",
    "version": 3
   },
   "file_extension": ".py",
   "mimetype": "text/x-python",
   "name": "python",
   "nbconvert_exporter": "python",
   "pygments_lexer": "ipython3",
   "version": "3.8.5"
  }
 },
 "nbformat": 4,
 "nbformat_minor": 5
}
